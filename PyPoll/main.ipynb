{
 "cells": [
  {
   "cell_type": "code",
   "execution_count": 7,
   "metadata": {},
   "outputs": [],
   "source": [
    "## Option 2: PyPoll\n",
    "#![Vote-Counting](Images/Vote_counting.jpg)\n",
    "#In this challenge, you are tasked with helping a small, rural town modernize its vote-counting process. (Up until now, Uncle Cleetus had been trustfully tallying them one-by-one, but unfortunately, his concentration isn't what it used to be.)\n",
    "#You will be given two sets of poll data (`election_data_1.csv` and `election_data_2.csv`). Each dataset is composed of three columns: `Voter ID`, `County`, and `Candidate`. Your task is to create a Python script that analyzes the votes and calculates each of the following:\n",
    "\n",
    "#* The total number of votes cast\n",
    "\n",
    "#* A complete list of candidates who received votes\n",
    "\n",
    "#* The percentage of votes each candidate won\n",
    "\n",
    "#* The total number of votes each candidate won\n",
    "\n",
    "#* The winner of the election based on popular vote.\n",
    "\n",
    "#As an example, your analysis should look similar to the one below:\n",
    "\n",
    "#```\n",
    "#Election Results\n",
    "#-------------------------\n",
    "#Total Votes: 620100\n",
    "#-------------------------\n",
    "#Rogers: 36.0% (223236)\n",
    "#Gomez: 54.0% (334854)\n",
    "#Brentwood: 4.0% (24804)\n",
    "#Higgins: 6.0% (37206)\n",
    "#-------------------------\n",
    "#Winner: Gomez\n",
    "#-------------------------\n",
    "#```\n",
    "\n",
    "#Your final script must be able to handle any such similarly-structured dataset in the future \n",
    "#(i.e you have zero intentions of living in this hillbilly town -- so your script needs to work without massive re-writes). \n",
    "#In addition, your final script should both print the analysis to the terminal and export a text file with the results.\n",
    "\n",
    "#import libraries\n",
    "import os \n",
    "import csv \n",
    "from collections import Counter \n",
    "\n"
   ]
  },
  {
   "cell_type": "code",
   "execution_count": 8,
   "metadata": {
    "collapsed": true
   },
   "outputs": [],
   "source": [
    "#input csv file path\n",
    "csvpath = os.path.join('Data','election_data_1.csv')"
   ]
  },
  {
   "cell_type": "code",
   "execution_count": 9,
   "metadata": {
    "collapsed": true
   },
   "outputs": [],
   "source": [
    "\n",
    "#initialize variables \n",
    "date = []\n",
    "election_data = [] \n",
    "vote_counter = 0 \n",
    "candidates = []\n",
    "candidate_count = 0 \n",
    "\n",
    "#create lists to hold final data\n",
    "final_total_votes = []\n",
    "final_candidates = []\n",
    "final_percent_of_vote = []\n",
    "final_candidate_votes = []\n",
    "final_greatist_number_of_votes = []\n",
    "final_winner = []\n",
    "final_source_file = []              #identifies which file the data is from \n",
    "\n",
    "        "
   ]
  },
  {
   "cell_type": "code",
   "execution_count": 10,
   "metadata": {
    "collapsed": true
   },
   "outputs": [],
   "source": [
    "\n",
    "#open csv file and read reach record \n",
    "with open(csvpath, newline=\"\") as csvfile:\n",
    "    csvreader= csv.reader(csvfile, delimiter=\",\")\n",
    "    next(csvfile)\n",
    "    for row in csvreader:\n",
    "        #print(row[0])\n",
    "        election_data = row\n",
    "        candidates.append(row[2])\n",
    "        vote_counter += 1 \n",
    "\n"
   ]
  },
  {
   "cell_type": "code",
   "execution_count": 5,
   "metadata": {
    "collapsed": true
   },
   "outputs": [
    {
     "name": "stdout",
     "output_type": "stream",
     "text": [
      "Vestal\n",
      "Torres\n",
      "Seth\n",
      "Cordin\n",
      "803000\n"
     ]
    },
    {
     "data": {
      "text/plain": [
       "'\\n#Tally number of candidates and the number of votes each received\\n    if vote_counter == 0:\\n        hold_candidate = candidates \\n        vote_counter += 1\\n        prev_revenue = budget_revenue\\n    elif hold_date != budget_date:\\n        hold_date = budget_date \\n        #increment date counter\\n        vote_counter += 1 \\n        #Calculate total Revenue change \\n        total_revenue_change = total_revenue_change + (int(budget_revenue) - int(prev_revenue)) \\n        #compare revenue change to determine greatist increase and decrease\\n        if (int(budget_revenue) - int(prev_revenue)) < greatist_decrease_amt:\\n            greatist_decrease_amt =(int(budget_revenue) - int(prev_revenue))\\n            greatist_decrease_date = budget_date \\n        if (int(budget_revenue) - int(prev_revenue)) > greatist_increase_amt:\\n            greatist_increase_amt = (int(budget_revenue) - int(prev_revenue))\\n            greatist_increase_date = budget_date \\n        \\n            \\n        #hold previous revenue for comparison \\n        prev_revenue = budget_revenue\\n\\n#Calculate average revenue change     \\naverage_revenue_change = total_revenue_change/(vote_counter -1)\\n\\n\\n#Calculate Total_Revenue for the entire budget period \\ntotal_revenue = total_revenue + int(budget_revenue)\\n\\n\\n#Print results to the Terminal\\nprint(\"----------------------------\")\\nprint(\"Financial Analysis\")\\nprint(\"----------------------------\")\\nprint(\"Total Months: \" + str(vote_counter))\\nprint(\"Total_Revenue: \" +\"$\"+ str(total_revenue))\\nprint(\"Average Revenue Change:\" +\"$\"+ str(average_revenue_change))\\nprint(\"Greatist Increase in Revenue:\" + str(greatist_increase_date) + \" ($\" + str(greatist_increase_amt)+\")\")\\nprint(\"Greatist Decrease in Revenue:\" + str(greatist_decrease_date) + \" ($\" + str(greatist_decrease_amt)+\")\")\\n\\n#Append data to final Lists \\nfinal_total_votes.append(vote_counter)\\nfinal_total_revenue.append(total_revenue) \\nfinal_average_change.append(average_revenue_change)\\nfinal_greatist_increase_date.append(greatist_increase_date)\\nfinal_greatist_increase_amt.append(greatist_increase_amt)\\nfinal_greatist_decrease_date.append(greatist_decrease_date)\\nfinal_greatist_decrease_amt.append(greatist_decrease_amt)\\nfinal_source_file.append(csvpath)\\n\\n#Zip lists together to create rows that will be written\\nelection_analysis = zip(final_total_votes, final_total_revenue, final_average_change, final_greatist_increase_date, final_greatist_increase_amt, final_greatist_decrease_date, final_greatist_decrease_amt, final_source_file)\\n#print(election_analysis)\\n\\n\\n# Set variable for output file\\noutput_file = os.path.join(\"final_election_analysis.csv\")\\noutput_file_exists = os.path.isfile(\"final_election_analysis.csv\")\\nprint(output_file_exists)\\n\\n#  Open the output file\\n# using a for append when there is an existing csv file additional conditional code below to check if the file exists before writing header row\\nwith open(output_file, \"a\", newline=\"\") as datafile:\\nwriter = csv.writer(datafile)\\nif output_file_exists == False:\\n    # Write the header row\\n    writer.writerow([\"Total_Months\", \"Total_Revenue\", \"Average_Revenue\", \"Greatist_Revenue_Increase_Date\",\"Greatist_Revenue_Increase_Amt\",\\n                     \"Greatist_Revenue_Decrease_Date\",\"Greatist_Revenue_Decrease_Amt\",\"Source_File\"])\\n    # Write in zipped rows\\n    writer.writerows(election_analysis)\\nelse:\\n    # Write in zipped rows\\n    writer.writerows(election_analysis)\\n'"
      ]
     },
     "execution_count": 5,
     "metadata": {},
     "output_type": "execute_result"
    }
   ],
   "source": [
    "    candidate_count = Counter(candidates)\n",
    "    for name in candidate_count.items():\n",
    "        print(name[0])\n",
    "\n",
    "    print(vote_counter)\n",
    "\n",
    "\n",
    "\n",
    "\n",
    "#winPercent = (int(wrestlerData[1])/totalMatches)*100    \n"
   ]
  },
  {
   "cell_type": "code",
   "execution_count": 16,
   "metadata": {},
   "outputs": [
    {
     "name": "stdout",
     "output_type": "stream",
     "text": [
      "-------------------------\n",
      "Election Results\n",
      "-------------------------\n",
      "Total Votes: 803000\n",
      "-------------------------\n"
     ]
    },
    {
     "ename": "AttributeError",
     "evalue": "'int' object has no attribute 'items'",
     "output_type": "error",
     "traceback": [
      "\u001b[1;31m---------------------------------------------------------------------------\u001b[0m",
      "\u001b[1;31mAttributeError\u001b[0m                            Traceback (most recent call last)",
      "\u001b[1;32m<ipython-input-16-73c38f5a6f1f>\u001b[0m in \u001b[0;36m<module>\u001b[1;34m()\u001b[0m\n\u001b[0;32m      4\u001b[0m \u001b[0mprint\u001b[0m\u001b[1;33m(\u001b[0m\u001b[1;34m\"Total Votes: \"\u001b[0m \u001b[1;33m+\u001b[0m \u001b[0mstr\u001b[0m\u001b[1;33m(\u001b[0m\u001b[0mvote_counter\u001b[0m\u001b[1;33m)\u001b[0m\u001b[1;33m)\u001b[0m\u001b[1;33m\u001b[0m\u001b[0m\n\u001b[0;32m      5\u001b[0m \u001b[0mprint\u001b[0m\u001b[1;33m(\u001b[0m\u001b[1;34m\"-------------------------\"\u001b[0m\u001b[1;33m)\u001b[0m\u001b[1;33m\u001b[0m\u001b[0m\n\u001b[1;32m----> 6\u001b[1;33m \u001b[1;32mfor\u001b[0m \u001b[0mname\u001b[0m \u001b[1;32min\u001b[0m \u001b[0mcandidate_count\u001b[0m\u001b[1;33m.\u001b[0m\u001b[0mitems\u001b[0m\u001b[1;33m(\u001b[0m\u001b[1;33m)\u001b[0m\u001b[1;33m:\u001b[0m\u001b[1;33m\u001b[0m\u001b[0m\n\u001b[0m\u001b[0;32m      7\u001b[0m         \u001b[0mprint\u001b[0m\u001b[1;33m(\u001b[0m\u001b[0mstr\u001b[0m\u001b[1;33m(\u001b[0m\u001b[1;33m(\u001b[0m\u001b[0mint\u001b[0m\u001b[1;33m(\u001b[0m\u001b[0mname\u001b[0m\u001b[1;33m[\u001b[0m\u001b[1;36m1\u001b[0m\u001b[1;33m]\u001b[0m\u001b[1;33m)\u001b[0m\u001b[1;33m/\u001b[0m\u001b[0mint\u001b[0m\u001b[1;33m(\u001b[0m\u001b[0mvote_counter\u001b[0m\u001b[1;33m)\u001b[0m\u001b[1;33m)\u001b[0m\u001b[1;33m*\u001b[0m\u001b[1;36m100\u001b[0m\u001b[1;33m)\u001b[0m \u001b[1;33m+\u001b[0m \u001b[1;34m\"%\"\u001b[0m\u001b[1;33m)\u001b[0m\u001b[1;33m\u001b[0m\u001b[0m\n\u001b[0;32m      8\u001b[0m         \u001b[1;31m#print(str(name[0]) + \": \" + str((int(name[1])/int(vote_counter)*100) + \"%  (\" + str(name[1]) +\")\")\u001b[0m\u001b[1;33m\u001b[0m\u001b[1;33m\u001b[0m\u001b[0m\n",
      "\u001b[1;31mAttributeError\u001b[0m: 'int' object has no attribute 'items'"
     ]
    }
   ],
   "source": [
    "print(\"-------------------------\")\n",
    "print(\"Election Results\")\n",
    "print(\"-------------------------\")\n",
    "print(\"Total Votes: \" + str(vote_counter))\n",
    "print(\"-------------------------\")\n",
    "for name in candidate_count.items():\n",
    "        print(str((int(name[1])/int(vote_counter))*100) + \"%\") \n",
    "        #print(str(name[0]) + \": \" + str((int(name[1])/int(vote_counter)*100) + \"%  (\" + str(name[1]) +\")\")\n",
    "print(\"-------------------------\")\n",
    "print(\"Winner: \")\n",
    "print(\"-------------------------\")\n",
    "\n",
    "\n",
    "#Election Results\n",
    "#-------------------------\n",
    "#Total Votes: 620100\n",
    "#-------------------------\n",
    "#Rogers: 36.0% (223236)\n",
    "#Gomez: 54.0% (334854)\n",
    "#Brentwood: 4.0% (24804)\n",
    "#Higgins: 6.0% (37206)\n",
    "#-------------------------\n",
    "#Winner: Gomez\n",
    "#-------------------------\n",
    "    \n"
   ]
  },
  {
   "cell_type": "code",
   "execution_count": null,
   "metadata": {
    "collapsed": true
   },
   "outputs": [],
   "source": [
    "'''\n",
    "    #Tally number of candidates and the number of votes each received\n",
    "        if vote_counter == 0:\n",
    "            hold_candidate = candidates \n",
    "            vote_counter += 1\n",
    "            prev_revenue = budget_revenue\n",
    "        elif hold_date != budget_date:\n",
    "            hold_date = budget_date \n",
    "            #increment date counter\n",
    "            vote_counter += 1 \n",
    "            #Calculate total Revenue change \n",
    "            total_revenue_change = total_revenue_change + (int(budget_revenue) - int(prev_revenue)) \n",
    "            #compare revenue change to determine greatist increase and decrease\n",
    "            if (int(budget_revenue) - int(prev_revenue)) < greatist_decrease_amt:\n",
    "                greatist_decrease_amt =(int(budget_revenue) - int(prev_revenue))\n",
    "                greatist_decrease_date = budget_date \n",
    "            if (int(budget_revenue) - int(prev_revenue)) > greatist_increase_amt:\n",
    "                greatist_increase_amt = (int(budget_revenue) - int(prev_revenue))\n",
    "                greatist_increase_date = budget_date \n",
    "            \n",
    "                \n",
    "            #hold previous revenue for comparison \n",
    "            prev_revenue = budget_revenue\n",
    "    \n",
    "    #Calculate average revenue change     \n",
    "    average_revenue_change = total_revenue_change/(vote_counter -1)\n",
    "\n",
    "    \n",
    "    #Calculate Total_Revenue for the entire budget period \n",
    "    total_revenue = total_revenue + int(budget_revenue)\n",
    "\n",
    "\n",
    "    #Print results to the Terminal\n",
    "    print(\"----------------------------\")\n",
    "    print(\"Financial Analysis\")\n",
    "    print(\"----------------------------\")\n",
    "    print(\"Total Months: \" + str(vote_counter))\n",
    "    print(\"Total_Revenue: \" +\"$\"+ str(total_revenue))\n",
    "    print(\"Average Revenue Change:\" +\"$\"+ str(average_revenue_change))\n",
    "    print(\"Greatist Increase in Revenue:\" + str(greatist_increase_date) + \" ($\" + str(greatist_increase_amt)+\")\")\n",
    "    print(\"Greatist Decrease in Revenue:\" + str(greatist_decrease_date) + \" ($\" + str(greatist_decrease_amt)+\")\")\n",
    "\n",
    "    #Append data to final Lists \n",
    "    final_total_votes.append(vote_counter)\n",
    "    final_total_revenue.append(total_revenue) \n",
    "    final_average_change.append(average_revenue_change)\n",
    "    final_greatist_increase_date.append(greatist_increase_date)\n",
    "    final_greatist_increase_amt.append(greatist_increase_amt)\n",
    "    final_greatist_decrease_date.append(greatist_decrease_date)\n",
    "    final_greatist_decrease_amt.append(greatist_decrease_amt)\n",
    "    final_source_file.append(csvpath)\n",
    "\n",
    "    #Zip lists together to create rows that will be written\n",
    "    election_analysis = zip(final_total_votes, final_total_revenue, final_average_change, final_greatist_increase_date, final_greatist_increase_amt, final_greatist_decrease_date, final_greatist_decrease_amt, final_source_file)\n",
    "    #print(election_analysis)\n",
    "\n",
    "\n",
    "# Set variable for output file\n",
    "output_file = os.path.join(\"final_election_analysis.csv\")\n",
    "output_file_exists = os.path.isfile(\"final_election_analysis.csv\")\n",
    "print(output_file_exists)\n",
    "\n",
    "#  Open the output file\n",
    "# using a for append when there is an existing csv file additional conditional code below to check if the file exists before writing header row\n",
    "with open(output_file, \"a\", newline=\"\") as datafile:\n",
    "    writer = csv.writer(datafile)\n",
    "    if output_file_exists == False:\n",
    "        # Write the header row\n",
    "        writer.writerow([\"Total_Months\", \"Total_Revenue\", \"Average_Revenue\", \"Greatist_Revenue_Increase_Date\",\"Greatist_Revenue_Increase_Amt\",\n",
    "                         \"Greatist_Revenue_Decrease_Date\",\"Greatist_Revenue_Decrease_Amt\",\"Source_File\"])\n",
    "        # Write in zipped rows\n",
    "        writer.writerows(election_analysis)\n",
    "    else:\n",
    "        # Write in zipped rows\n",
    "        writer.writerows(election_analysis)\n",
    "'''\n",
    "\n",
    "\n"
   ]
  }
 ],
 "metadata": {
  "kernelspec": {
   "display_name": "Python 3",
   "language": "python",
   "name": "python3"
  },
  "language_info": {
   "codemirror_mode": {
    "name": "ipython",
    "version": 3
   },
   "file_extension": ".py",
   "mimetype": "text/x-python",
   "name": "python",
   "nbconvert_exporter": "python",
   "pygments_lexer": "ipython3",
   "version": "3.6.3"
  }
 },
 "nbformat": 4,
 "nbformat_minor": 2
}
